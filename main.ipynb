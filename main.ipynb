{
 "cells": [
  {
   "cell_type": "code",
   "execution_count": 58,
   "metadata": {
    "collapsed": true
   },
   "outputs": [],
   "source": [
    "import pandas as pd\n",
    "import matplotlib.pyplot as plt\n",
    "import seaborn as sns\n",
    "import scipy\n",
    "import statsmodels"
   ]
  },
  {
   "cell_type": "code",
   "execution_count": 59,
   "metadata": {
    "pycharm": {
     "name": "#%%\n"
    }
   },
   "outputs": [
    {
     "data": {
      "text/plain": "        name      surname          sport  start   end   top  reps  impr\n0      Lucie   Halakucová       softball   0.90  1.54  1.95    30  3.20\n1     Eliska  Thompsonova       softball   0.68  1.99  2.60    91  4.54\n2     Matyáš       Vágner  fotbal golman   0.98  2.14  2.43    45  3.16\n3  Charlotte    Velichova      basketbal   1.14  1.61  1.96    18  3.37\n4      Simon       Hrubec   hokej golman   0.52  2.16  2.58    88  5.72",
      "text/html": "<div>\n<style scoped>\n    .dataframe tbody tr th:only-of-type {\n        vertical-align: middle;\n    }\n\n    .dataframe tbody tr th {\n        vertical-align: top;\n    }\n\n    .dataframe thead th {\n        text-align: right;\n    }\n</style>\n<table border=\"1\" class=\"dataframe\">\n  <thead>\n    <tr style=\"text-align: right;\">\n      <th></th>\n      <th>name</th>\n      <th>surname</th>\n      <th>sport</th>\n      <th>start</th>\n      <th>end</th>\n      <th>top</th>\n      <th>reps</th>\n      <th>impr</th>\n    </tr>\n  </thead>\n  <tbody>\n    <tr>\n      <th>0</th>\n      <td>Lucie</td>\n      <td>Halakucová</td>\n      <td>softball</td>\n      <td>0.90</td>\n      <td>1.54</td>\n      <td>1.95</td>\n      <td>30</td>\n      <td>3.20</td>\n    </tr>\n    <tr>\n      <th>1</th>\n      <td>Eliska</td>\n      <td>Thompsonova</td>\n      <td>softball</td>\n      <td>0.68</td>\n      <td>1.99</td>\n      <td>2.60</td>\n      <td>91</td>\n      <td>4.54</td>\n    </tr>\n    <tr>\n      <th>2</th>\n      <td>Matyáš</td>\n      <td>Vágner</td>\n      <td>fotbal golman</td>\n      <td>0.98</td>\n      <td>2.14</td>\n      <td>2.43</td>\n      <td>45</td>\n      <td>3.16</td>\n    </tr>\n    <tr>\n      <th>3</th>\n      <td>Charlotte</td>\n      <td>Velichova</td>\n      <td>basketbal</td>\n      <td>1.14</td>\n      <td>1.61</td>\n      <td>1.96</td>\n      <td>18</td>\n      <td>3.37</td>\n    </tr>\n    <tr>\n      <th>4</th>\n      <td>Simon</td>\n      <td>Hrubec</td>\n      <td>hokej golman</td>\n      <td>0.52</td>\n      <td>2.16</td>\n      <td>2.58</td>\n      <td>88</td>\n      <td>5.72</td>\n    </tr>\n  </tbody>\n</table>\n</div>"
     },
     "execution_count": 59,
     "metadata": {},
     "output_type": "execute_result"
    }
   ],
   "source": [
    "df = pd.read_csv('data_all.csv', sep=';', usecols=['name', 'surname', 'sport', 'start', 'end', 'top', 'reps', 'impr'])\n",
    "df['impr'] = df['impr'].map(lambda x: float(int(x[:-1])) / 100)\n",
    "df['reps'] = df['reps'].map(lambda x: int(x[:-1]))\n",
    "df.head()"
   ]
  },
  {
   "cell_type": "markdown",
   "source": [
    "### Distribuce zlepšení"
   ],
   "metadata": {
    "collapsed": false,
    "pycharm": {
     "name": "#%% md\n"
    }
   }
  },
  {
   "cell_type": "code",
   "execution_count": 60,
   "outputs": [
    {
     "data": {
      "text/plain": "<Figure size 432x288 with 1 Axes>",
      "image/png": "[encoded data removed]"
     },
     "metadata": {
      "needs_background": "light"
     },
     "output_type": "display_data"
    }
   ],
   "source": [
    "ax = sns.distplot(df['impr'], bins=30, kde=False, rug=True, label='Distribuce zlepšení',\n",
    "             axlabel='Zlepšení')\n",
    "ax.get_figure().savefig('zlepseni.png')\n"
   ],
   "metadata": {
    "collapsed": false,
    "pycharm": {
     "name": "#%%\n"
    }
   }
  },
  {
   "cell_type": "code",
   "execution_count": 61,
   "outputs": [],
   "source": [
    "wcs = df['sport'].value_counts()\n",
    "sports_filtered = df['sport'].map(lambda x:\n",
    "                                  x if wcs.loc[x] >= 4\n",
    "                                  else 'jiné')\n",
    "df['sport_filtered'] = sports_filtered"
   ],
   "metadata": {
    "collapsed": false,
    "pycharm": {
     "name": "#%%\n"
    }
   }
  },
  {
   "cell_type": "markdown",
   "source": [
    "### Zlepšili se ti, kdo to dělali víckrát?\n",
    "\n",
    "Zdá se že spíš ne, ještě to otestujeme.\n",
    "\n",
    "...\n",
    "\n",
    "Pearsonův kor. koef. ovšem vychází 0,46 s p=hodnotou 0,0000913 (= pravděpodobnost,\n",
    "že by nekorelovanné proměnné měly takovéhle vzorky)."
   ],
   "metadata": {
    "collapsed": false,
    "pycharm": {
     "name": "#%% md\n"
    }
   }
  },
  {
   "cell_type": "code",
   "execution_count": 64,
   "outputs": [
    {
     "data": {
      "text/plain": "<matplotlib.axes._subplots.AxesSubplot at 0x2ef853b9430>"
     },
     "execution_count": 64,
     "metadata": {},
     "output_type": "execute_result"
    },
    {
     "data": {
      "text/plain": "<Figure size 432x288 with 1 Axes>",
      "image/png": "[encoded data removed]"
     },
     "metadata": {
      "needs_background": "light"
     },
     "output_type": "display_data"
    }
   ],
   "source": [
    "ax = sns.scatterplot(x=df['reps'], y=df['impr'], hue=df['sport_filtered'])\n",
    "ax.get_figure().savefig('zlepseni_x_reps.png')\n",
    "ax"
   ],
   "metadata": {
    "collapsed": false,
    "pycharm": {
     "name": "#%%\n"
    }
   }
  },
  {
   "cell_type": "code",
   "execution_count": 62,
   "outputs": [
    {
     "data": {
      "text/plain": "(0.4660322986287076, 9.138917973563417e-05)"
     },
     "execution_count": 62,
     "metadata": {},
     "output_type": "execute_result"
    }
   ],
   "source": [
    "scipy.stats.pearsonr(x=df['reps'], y=df['impr'])"
   ],
   "metadata": {
    "collapsed": false,
    "pycharm": {
     "name": "#%%\n"
    }
   }
  }
 ],
 "metadata": {
  "kernelspec": {
   "name": "hoff",
   "language": "python",
   "display_name": "Python (hoff)"
  },
  "language_info": {
   "codemirror_mode": {
    "name": "ipython",
    "version": 3
   },
   "file_extension": ".py",
   "mimetype": "text/x-python",
   "name": "python",
   "nbconvert_exporter": "python",
   "pygments_lexer": "ipython3",
   "version": "3.8.3"
  }
 },
 "nbformat": 4,
 "nbformat_minor": 1
}