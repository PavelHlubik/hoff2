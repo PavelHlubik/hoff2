{
 "cells": [
  {
   "cell_type": "code",
   "execution_count": 141,
   "metadata": {
    "collapsed": true
   },
   "outputs": [],
   "source": [
    "import pandas as pd\n",
    "import matplotlib.pyplot as plt\n",
    "import seaborn as sns\n",
    "import scipy\n",
    "import statsmodels\n",
    "import statsmodels.api as sm\n",
    "from statsmodels.graphics.regressionplots import abline_plot"
   ]
  },
  {
   "cell_type": "code",
   "execution_count": 142,
   "metadata": {
    "pycharm": {
     "name": "#%%\n"
    }
   },
   "outputs": [
    {
     "data": {
      "text/plain": "        name      surname      sport  start   end   top  reps  impr\n0      Lucie   Halakucová   softball   0.90  1.54  1.95    30  3.20\n1     Eliska  Thompsonova   softball   0.68  1.99  2.60    91  4.54\n2     Matyáš       Vágner     fotbal   0.98  2.14  2.43    45  3.16\n3  Charlotte    Velichova  basketbal   1.14  1.61  1.96    18  3.37\n4      Simon       Hrubec      hokej   0.52  2.16  2.58    88  5.72",
      "text/html": "<div>\n<style scoped>\n    .dataframe tbody tr th:only-of-type {\n        vertical-align: middle;\n    }\n\n    .dataframe tbody tr th {\n        vertical-align: top;\n    }\n\n    .dataframe thead th {\n        text-align: right;\n    }\n</style>\n<table border=\"1\" class=\"dataframe\">\n  <thead>\n    <tr style=\"text-align: right;\">\n      <th></th>\n      <th>name</th>\n      <th>surname</th>\n      <th>sport</th>\n      <th>start</th>\n      <th>end</th>\n      <th>top</th>\n      <th>reps</th>\n      <th>impr</th>\n    </tr>\n  </thead>\n  <tbody>\n    <tr>\n      <th>0</th>\n      <td>Lucie</td>\n      <td>Halakucová</td>\n      <td>softball</td>\n      <td>0.90</td>\n      <td>1.54</td>\n      <td>1.95</td>\n      <td>30</td>\n      <td>3.20</td>\n    </tr>\n    <tr>\n      <th>1</th>\n      <td>Eliska</td>\n      <td>Thompsonova</td>\n      <td>softball</td>\n      <td>0.68</td>\n      <td>1.99</td>\n      <td>2.60</td>\n      <td>91</td>\n      <td>4.54</td>\n    </tr>\n    <tr>\n      <th>2</th>\n      <td>Matyáš</td>\n      <td>Vágner</td>\n      <td>fotbal</td>\n      <td>0.98</td>\n      <td>2.14</td>\n      <td>2.43</td>\n      <td>45</td>\n      <td>3.16</td>\n    </tr>\n    <tr>\n      <th>3</th>\n      <td>Charlotte</td>\n      <td>Velichova</td>\n      <td>basketbal</td>\n      <td>1.14</td>\n      <td>1.61</td>\n      <td>1.96</td>\n      <td>18</td>\n      <td>3.37</td>\n    </tr>\n    <tr>\n      <th>4</th>\n      <td>Simon</td>\n      <td>Hrubec</td>\n      <td>hokej</td>\n      <td>0.52</td>\n      <td>2.16</td>\n      <td>2.58</td>\n      <td>88</td>\n      <td>5.72</td>\n    </tr>\n  </tbody>\n</table>\n</div>"
     },
     "execution_count": 142,
     "metadata": {},
     "output_type": "execute_result"
    }
   ],
   "source": [
    "df = pd.read_csv('data_all.csv', sep=';', usecols=['name', 'surname', 'sport', 'start', 'end', 'top', 'reps', 'impr'])\n",
    "df['impr'] = df['impr'].map(lambda x: float(int(x[:-1])) / 100)\n",
    "df['reps'] = df['reps'].map(lambda x: int(x[:-1]))\n",
    "df['sport'] = df['sport'].replace({'rozhodčí basket': 'basketbal', 'hokej golman': 'hokej', 'fotbal golman': 'fotbal'})\n",
    "df = df[(df['impr'] < 10) & (df['reps'] < 300) & (df['impr'] > 1.1)]\n",
    "df.head()"
   ]
  },
  {
   "cell_type": "code",
   "execution_count": 143,
   "outputs": [
    {
     "data": {
      "text/plain": "hokej                19\nbasketbal            12\nsoftball             10\nfotbal                8\ntenis                 2\nflorbal               1\nstolní tenis          1\nvioloncello           1\naikido                1\npozemní hokej         1\nsjezdové lyžování     1\nCMP                   1\nbaseball              1\nMMA                   1\nName: sport, dtype: int64"
     },
     "execution_count": 143,
     "metadata": {},
     "output_type": "execute_result"
    }
   ],
   "source": [
    "df['sport'].value_counts()"
   ],
   "metadata": {
    "collapsed": false,
    "pycharm": {
     "name": "#%%\n"
    }
   }
  },
  {
   "cell_type": "markdown",
   "source": [
    "### Distribuce zlepšení, opakování a celkový graf\n",
    "\n",
    "Z datasetu jsem odebral \"odlehlé hodnoty\" - vzorky s moc odlišnými hodnotami. Ony\n",
    "pak totiž kurví statistiku. V našem případě to bylo zlepšení přes 1000 %, počet opakování\n",
    "přes 300 nebo zlepšení pod 110 %"
   ],
   "metadata": {
    "collapsed": false,
    "pycharm": {
     "name": "#%% md\n"
    }
   }
  },
  {
   "cell_type": "code",
   "execution_count": 144,
   "outputs": [
    {
     "data": {
      "text/plain": "<Figure size 432x288 with 1 Axes>",
      "image/png": "[encoded data removed]"
     },
     "metadata": {
      "needs_background": "light"
     },
     "output_type": "display_data"
    }
   ],
   "source": [
    "ax = sns.distplot(df['impr'], bins=30, kde=False, rug=True, label='Distribuce zlepšení',\n",
    "             axlabel='Zlepšení')\n",
    "ax.get_figure().savefig('zlepseni.png')\n"
   ],
   "metadata": {
    "collapsed": false,
    "pycharm": {
     "name": "#%%\n"
    }
   }
  },
  {
   "cell_type": "code",
   "execution_count": 145,
   "outputs": [
    {
     "data": {
      "text/plain": "<Figure size 432x288 with 1 Axes>",
      "image/png": "[encoded data removed]"
     },
     "metadata": {
      "needs_background": "light"
     },
     "output_type": "display_data"
    }
   ],
   "source": [
    "ax = sns.distplot(df['reps'], bins=30, kde=False, rug=True, label='Distribuce opakovani',\n",
    "             axlabel='Opakovani')\n",
    "ax.get_figure().savefig('opak.png')\n"
   ],
   "metadata": {
    "collapsed": false,
    "pycharm": {
     "name": "#%%\n"
    }
   }
  },
  {
   "cell_type": "code",
   "execution_count": 146,
   "outputs": [
    {
     "data": {
      "text/plain": "<matplotlib.axes._subplots.AxesSubplot at 0x21c82b2f340>"
     },
     "execution_count": 146,
     "metadata": {},
     "output_type": "execute_result"
    },
    {
     "data": {
      "text/plain": "<Figure size 432x288 with 1 Axes>",
      "image/png": "[encoded data removed]"
     },
     "metadata": {
      "needs_background": "light"
     },
     "output_type": "display_data"
    }
   ],
   "source": [
    "wcs = df['sport'].value_counts()\n",
    "sports_filtered = df['sport'].map(lambda x:\n",
    "                                  x if wcs.loc[x] >= 4\n",
    "                                  else 'jiné')\n",
    "df['sport_filtered'] = sports_filtered\n",
    "\n",
    "ax = sns.scatterplot(x=df['reps'], y=df['impr'], hue=df['sport_filtered'])\n",
    "ax.get_figure().savefig('zlepseni_x_reps.png')\n",
    "ax"
   ],
   "metadata": {
    "collapsed": false,
    "pycharm": {
     "name": "#%%\n"
    }
   }
  },
  {
   "cell_type": "markdown",
   "source": [
    "### Zlepšili se ti, kdo to dělali víckrát?\n",
    "\n",
    "Podle grafu se dá říct, že s počtem opakování zlepšení tak nějak roste, ale\n",
    "není to úplně jasně vidět. Pearsonův korelační koeficient vychází 0,42\n",
    "s p-hodnotou 0.00068, což znamená, že to, že by data byla ve skutečnosti nekorelovaná\n",
    "je extrémně nepravděpodobné.\n",
    "\n",
    "Vzhledem k tomu, že ani jedna distribuce (opakování ani zlepšení) není\n",
    "normální (= gausovka), je lepší použít Spearmanův korelační koeficient,\n",
    "který detekuje jakoukoliv monotónní závislost. Pearson je pouze pro lineární,\n",
    "tudíž kdyby ta data tvořila třeba parabolu, vyjde Pearson nízký, byť\n",
    "ta data jednoznačně závislá budou.\n",
    "\n",
    "Spearman vychází 0,52 s ještě nižší p-hodnotou, můžeme si tedy být docela\n",
    "jistí, že v datech je nějaká rostoucí závislost, byť ne moc silná"
   ],
   "metadata": {
    "collapsed": false,
    "pycharm": {
     "name": "#%% md\n"
    }
   }
  },
  {
   "cell_type": "code",
   "execution_count": 147,
   "outputs": [
    {
     "data": {
      "text/plain": "(0.4264386847325134, 0.0006800805759246995)"
     },
     "execution_count": 147,
     "metadata": {},
     "output_type": "execute_result"
    }
   ],
   "source": [
    "scipy.stats.pearsonr(x=df['reps'], y=df['impr'])"
   ],
   "metadata": {
    "collapsed": false,
    "pycharm": {
     "name": "#%%\n"
    }
   }
  },
  {
   "cell_type": "code",
   "execution_count": 148,
   "outputs": [
    {
     "data": {
      "text/plain": "SpearmanrResult(correlation=0.5210461282925579, pvalue=1.969935578702016e-05)"
     },
     "execution_count": 148,
     "metadata": {},
     "output_type": "execute_result"
    }
   ],
   "source": [
    "scipy.stats.spearmanr(a=df['reps'], b=df['impr'])"
   ],
   "metadata": {
    "collapsed": false,
    "pycharm": {
     "name": "#%%\n"
    }
   }
  },
  {
   "cell_type": "markdown",
   "source": [
    "Zajímavé je porovnání jednotlivých sportů - u hokejek je středně silná korelace\n",
    "průkazná na hladině spolehlivosti 95 %, u softballistů je to totál sicher\n",
    "a u basketbalistů je to naprosto neprůkazný - moc vysoké p-hodnoty, hladina\n",
    "spolehlivosti by byla nějakých 52 % u Spearmana, což je naprosto nepoužitelné."
   ],
   "metadata": {
    "collapsed": false,
    "pycharm": {
     "name": "#%% md\n"
    }
   }
  },
  {
   "cell_type": "code",
   "execution_count": 149,
   "outputs": [
    {
     "data": {
      "text/plain": "<Figure size 432x288 with 1 Axes>",
      "image/png": "[encoded data removed]"
     },
     "metadata": {
      "needs_background": "light"
     },
     "output_type": "display_data"
    },
    {
     "name": "stdout",
     "output_type": "stream",
     "text": [
      "(0.4680650829835125, 0.04327373790913669)\n",
      "SpearmanrResult(correlation=0.4835454612054436, pvalue=0.035950357907161015)\n"
     ]
    }
   ],
   "source": [
    "s = 'hokej'\n",
    "df_sport = df[df['sport'] == s]\n",
    "ax = sns.scatterplot(x=df_sport['reps'], y=df_sport['impr'], hue=df['sport_filtered'])\n",
    "ax.get_figure().savefig(f'zlepseni_x_reps_{s}.png')\n",
    "plt.show(ax)\n",
    "print(scipy.stats.pearsonr(x=df_sport['reps'], y=df_sport['impr']))\n",
    "print(scipy.stats.spearmanr(a=df_sport['reps'], b=df_sport['impr']))"
   ],
   "metadata": {
    "collapsed": false,
    "pycharm": {
     "name": "#%%\n"
    }
   }
  },
  {
   "cell_type": "code",
   "execution_count": 150,
   "outputs": [
    {
     "data": {
      "text/plain": "<Figure size 432x288 with 1 Axes>",
      "image/png": "[encoded data removed]"
     },
     "metadata": {
      "needs_background": "light"
     },
     "output_type": "display_data"
    },
    {
     "name": "stdout",
     "output_type": "stream",
     "text": [
      "(0.8413838495025128, 0.0022762281116641614)\n",
      "SpearmanrResult(correlation=0.8510677611520904, pvalue=0.0017911300301950454)\n"
     ]
    }
   ],
   "source": [
    "s = 'softball'\n",
    "df_sport = df[df['sport'] == s]\n",
    "ax = sns.scatterplot(x=df_sport['reps'], y=df_sport['impr'], hue=df['sport_filtered'])\n",
    "ax.get_figure().savefig(f'zlepseni_x_reps_{s}.png')\n",
    "plt.show(ax)\n",
    "print(scipy.stats.pearsonr(x=df_sport['reps'], y=df_sport['impr']))\n",
    "print(scipy.stats.spearmanr(a=df_sport['reps'], b=df_sport['impr']))"
   ],
   "metadata": {
    "collapsed": false,
    "pycharm": {
     "name": "#%%\n"
    }
   }
  },
  {
   "cell_type": "code",
   "execution_count": 151,
   "outputs": [
    {
     "data": {
      "text/plain": "<Figure size 432x288 with 1 Axes>",
      "image/png": "[encoded data removed]"
     },
     "metadata": {
      "needs_background": "light"
     },
     "output_type": "display_data"
    },
    {
     "name": "stdout",
     "output_type": "stream",
     "text": [
      "(0.43994374876881254, 0.1523750488651165)\n",
      "SpearmanrResult(correlation=0.22377622377622378, pvalue=0.48445166145539886)\n"
     ]
    }
   ],
   "source": [
    "s = 'basketbal'\n",
    "df_sport = df[(df['sport'] == s) | (df['sport'] == 'rozhodčí basket')]\n",
    "ax = sns.scatterplot(x=df_sport['reps'], y=df_sport['impr'])\n",
    "ax.get_figure().savefig(f'zlepseni_x_reps_{s}.png')\n",
    "plt.show(ax)\n",
    "print(scipy.stats.pearsonr(x=df_sport['reps'], y=df_sport['impr']))\n",
    "print(scipy.stats.spearmanr(a=df_sport['reps'], b=df_sport['impr']))\n"
   ],
   "metadata": {
    "collapsed": false,
    "pycharm": {
     "name": "#%%\n"
    }
   }
  }
 ],
 "metadata": {
  "kernelspec": {
   "name": "hoff",
   "language": "python",
   "display_name": "Python (hoff)"
  },
  "language_info": {
   "codemirror_mode": {
    "name": "ipython",
    "version": 3
   },
   "file_extension": ".py",
   "mimetype": "text/x-python",
   "name": "python",
   "nbconvert_exporter": "python",
   "pygments_lexer": "ipython3",
   "version": "3.8.3"
  }
 },
 "nbformat": 4,
 "nbformat_minor": 1
}